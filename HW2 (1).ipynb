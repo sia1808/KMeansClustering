{
 "cells": [
  {
   "cell_type": "markdown",
   "id": "69d5e71d-4c8a-472c-91cb-a3cbe685f07d",
   "metadata": {},
   "source": [
    "# Homework 2\n",
    "## Sia Sharma\n",
    "## Collaborators: Om Italiya, Nikita Salkar"
   ]
  },
  {
   "cell_type": "markdown",
   "id": "16240901-a359-48ca-bd75-38f9ee0a9141",
   "metadata": {},
   "source": [
    "## Question 1: \n",
    "\n",
    "### part a)"
   ]
  },
  {
   "cell_type": "code",
   "execution_count": 18,
   "id": "e276afb2-a172-4153-b1c5-7902461a6ee5",
   "metadata": {},
   "outputs": [
    {
     "name": "stdout",
     "output_type": "stream",
     "text": [
      "[[0.94638441 0.04963265 0.78609724 0.2268438  0.29219433 0.3480103\n",
      "  0.1269454  0.7702458  0.22064572 0.89169461 0.98664634 0.07117114\n",
      "  0.7409834  0.62913559 0.43044281 0.53295316 0.56572872 0.29743161\n",
      "  0.53694963 0.21452681 0.33193775 0.20136709 0.55182397 0.47709719\n",
      "  0.89429074 0.16554123 0.56225782 0.78097628 0.6558614  0.49726628\n",
      "  0.49253819 0.98768988 0.64236554 0.09148696 0.43043099]]\n"
     ]
    }
   ],
   "source": [
    "import numpy as np\n",
    "import pandas as pd\n",
    "\n",
    "# creating 35 number array between [0,1]\n",
    "A = np.random.rand(1, 35)\n",
    "# displaying array\n",
    "print(A)"
   ]
  },
  {
   "cell_type": "markdown",
   "id": "ea4ab45f-1210-4a5e-ab64-8c2b08461a45",
   "metadata": {},
   "source": [
    "### part b)"
   ]
  },
  {
   "cell_type": "code",
   "execution_count": 19,
   "id": "934f2090-08bd-43e8-8f38-22db23d225b7",
   "metadata": {},
   "outputs": [
    {
     "name": "stdout",
     "output_type": "stream",
     "text": [
      "[0.94638441 0.78609724 0.7702458  0.89169461 0.98664634 0.7409834\n",
      " 0.62913559 0.89429074 0.78097628 0.6558614  0.98768988 0.64236554]\n"
     ]
    }
   ],
   "source": [
    "# outputting entries that are at least 0.6 saved to a variable names 'array'\n",
    "A2 = A[A>=0.6]\n",
    "print(A2)"
   ]
  },
  {
   "cell_type": "markdown",
   "id": "86f2e417-2849-4d24-b85f-a6d43b721431",
   "metadata": {},
   "source": [
    "### part c)"
   ]
  },
  {
   "cell_type": "code",
   "execution_count": 23,
   "id": "820249df-f759-43d3-ab2b-55dc2baa3d23",
   "metadata": {},
   "outputs": [
    {
     "name": "stdout",
     "output_type": "stream",
     "text": [
      "[[0.89564344 0.0024634  0.61794887 0.05145811 0.08537753 0.12111117\n",
      "  0.01611513 0.59327859 0.04868454 0.79511928 0.973471   0.00506533\n",
      "  0.5490564  0.39581159 0.18528101 0.28403907 0.32004898 0.08846556\n",
      "  0.2883149  0.04602175 0.11018267 0.0405487  0.30450969 0.22762173\n",
      "  0.79975593 0.0274039  0.31613385 0.60992395 0.43015417 0.24727375\n",
      "  0.24259387 0.9755313  0.41263348 0.00836986 0.18527084]]\n"
     ]
    }
   ],
   "source": [
    "# squaring all entries of the array\n",
    "A3 = np.square(A)\n",
    "print(A3)"
   ]
  },
  {
   "cell_type": "markdown",
   "id": "3a821f4f-2d78-4208-9611-abba9b74876a",
   "metadata": {},
   "source": [
    "### part d)"
   ]
  },
  {
   "cell_type": "code",
   "execution_count": 26,
   "id": "bc8aa8fb-df2d-452f-8b68-62063e448aeb",
   "metadata": {},
   "outputs": [
    {
     "name": "stdout",
     "output_type": "stream",
     "text": [
      "[[0.94638441 0.04963265 0.78609724 0.2268438  0.29219433 0.3480103\n",
      "  0.1269454 ]\n",
      " [0.7702458  0.22064572 0.89169461 0.98664634 0.07117114 0.7409834\n",
      "  0.62913559]\n",
      " [0.43044281 0.53295316 0.56572872 0.29743161 0.53694963 0.21452681\n",
      "  0.33193775]\n",
      " [0.20136709 0.55182397 0.47709719 0.89429074 0.16554123 0.56225782\n",
      "  0.78097628]\n",
      " [0.6558614  0.49726628 0.49253819 0.98768988 0.64236554 0.09148696\n",
      "  0.43043099]]\n"
     ]
    }
   ],
   "source": [
    "# reshaping to 5 rows and 7 columns\n",
    "B = A.reshape(5,7)\n",
    "print(B)"
   ]
  },
  {
   "cell_type": "markdown",
   "id": "d4461d05-c7e8-46b6-884f-e28fdfffd959",
   "metadata": {},
   "source": [
    "### part e)"
   ]
  },
  {
   "cell_type": "code",
   "execution_count": 29,
   "id": "3087b84a-c48b-41e0-98ad-bc9302922064",
   "metadata": {},
   "outputs": [
    {
     "data": {
      "text/plain": [
       "array([0.29219433, 0.7409834 , 0.43044281, 0.55182397, 0.49726628])"
      ]
     },
     "execution_count": 29,
     "metadata": {},
     "output_type": "execute_result"
    }
   ],
   "source": [
    "# finding median of rows (denoted as 1)\n",
    "np.median(B, axis = 1)"
   ]
  },
  {
   "cell_type": "markdown",
   "id": "c93eb15c-3ca4-48bf-8e09-56f97b851d07",
   "metadata": {},
   "source": [
    "### part f)"
   ]
  },
  {
   "cell_type": "code",
   "execution_count": 28,
   "id": "98a708d1-cbba-46f1-90d2-4d87f4f8eaeb",
   "metadata": {},
   "outputs": [
    {
     "data": {
      "text/plain": [
       "array([0.6008603 , 0.37046435, 0.64263119, 0.67858048, 0.34164437,\n",
       "       0.39145306, 0.4598852 ])"
      ]
     },
     "execution_count": 28,
     "metadata": {},
     "output_type": "execute_result"
    }
   ],
   "source": [
    "# finding mean of columns (denoted as 0)\n",
    "np.mean(B, axis = 0)"
   ]
  },
  {
   "cell_type": "markdown",
   "id": "8f5f4de1-35b0-49fd-989f-0e909862cb5e",
   "metadata": {},
   "source": [
    "### part g)"
   ]
  },
  {
   "cell_type": "code",
   "execution_count": 30,
   "id": "78c3edb2-bc04-4b7e-87e8-327006621d7a",
   "metadata": {},
   "outputs": [
    {
     "name": "stdout",
     "output_type": "stream",
     "text": [
      "[[0.94638441 0.         0.78609724 0.2268438  0.29219433 0.3480103\n",
      "  0.1269454 ]\n",
      " [0.7702458  0.         0.89169461 0.98664634 0.07117114 0.7409834\n",
      "  0.62913559]\n",
      " [0.43044281 0.         0.56572872 0.29743161 0.53694963 0.21452681\n",
      "  0.33193775]\n",
      " [0.20136709 0.         0.47709719 0.89429074 0.16554123 0.56225782\n",
      "  0.78097628]\n",
      " [0.6558614  0.         0.49253819 0.98768988 0.64236554 0.09148696\n",
      "  0.43043099]]\n"
     ]
    }
   ],
   "source": [
    "# setting the second column to 0\n",
    "B[:,1] = 0\n",
    "print(B)"
   ]
  },
  {
   "cell_type": "markdown",
   "id": "dd63c32c-8381-45a5-ad46-0dc4a1b35cd3",
   "metadata": {},
   "source": [
    "### part h)"
   ]
  },
  {
   "cell_type": "code",
   "execution_count": 31,
   "id": "c53ab3e3-7c5a-4101-9d0f-b123036d4c99",
   "metadata": {},
   "outputs": [
    {
     "name": "stdout",
     "output_type": "stream",
     "text": [
      "[[0.94638441 0.         0.78609724 0.2268438  0.29219433 0.3480103\n",
      "  0.1269454 ]\n",
      " [1.         1.         1.         1.         1.         1.\n",
      "  1.        ]\n",
      " [1.         1.         1.         1.         1.         1.\n",
      "  1.        ]\n",
      " [1.         1.         1.         1.         1.         1.\n",
      "  1.        ]\n",
      " [0.6558614  0.         0.49253819 0.98768988 0.64236554 0.09148696\n",
      "  0.43043099]]\n"
     ]
    }
   ],
   "source": [
    "# setting second to fourth rows to 1\n",
    "B[1:4] = 1\n",
    "print(B)"
   ]
  },
  {
   "cell_type": "markdown",
   "id": "2faa0791-3b6b-4bde-a539-5da77b4c56e0",
   "metadata": {},
   "source": [
    "### part i)"
   ]
  },
  {
   "cell_type": "code",
   "execution_count": 33,
   "id": "3bea3cdf-97c2-46c2-bcb7-920a077beb39",
   "metadata": {},
   "outputs": [
    {
     "name": "stdout",
     "output_type": "stream",
     "text": [
      "[[0.94638441 0.         0.78609724 0.2268438  0.29219433 0.3480103\n",
      "  0.1269454  1.         1.         1.         1.         1.\n",
      "  1.         1.         1.         1.         1.         1.\n",
      "  1.         1.         1.         1.         1.         1.\n",
      "  1.         1.         1.         1.         0.6558614  0.\n",
      "  0.49253819 0.98768988 0.64236554 0.09148696 0.43043099]]\n"
     ]
    }
   ],
   "source": [
    "# did this modify A? We can check by printing A.\n",
    "print(A)"
   ]
  },
  {
   "cell_type": "markdown",
   "id": "1e30b965-7f45-46c0-97ce-05a57706a67d",
   "metadata": {},
   "source": [
    "Therefore: Yes, it did modify the original array A. "
   ]
  },
  {
   "cell_type": "markdown",
   "id": "4a87f70b-9125-40c6-869e-20d8bed6870a",
   "metadata": {},
   "source": [
    "### part j)"
   ]
  },
  {
   "cell_type": "markdown",
   "id": "2d26da77-ca28-4a9a-9e29-30cd75f87879",
   "metadata": {},
   "source": [
    "The difference betwen numpy.resize and numpy.reshape is that numpy.resize changes the numbers directly in the array while numpy.reshape does not modify the original array but instead creates a kind of 'copy' of the array and changes its dimensions. This is why numpy.reshape returns the new modified array while numpy.resize does not. "
   ]
  },
  {
   "cell_type": "markdown",
   "id": "0ce3593b-12ff-41f4-9440-49ef90bac199",
   "metadata": {},
   "source": [
    "## Question 2:"
   ]
  },
  {
   "cell_type": "markdown",
   "id": "e709e52a-7a71-4fc5-8000-f8b5c2e4308f",
   "metadata": {},
   "source": [
    "### importing and reading file to set up datastore "
   ]
  },
  {
   "cell_type": "code",
   "execution_count": 123,
   "id": "feff35c9-dc59-4c3b-b6a2-5281c38f8d0b",
   "metadata": {},
   "outputs": [],
   "source": [
    "import numpy as np\n",
    "import pandas as pd\n",
    "import random\n",
    "import matplotlib.pyplot as plt\n",
    "\n",
    "def print_file(filename):\n",
    "    with open(filename) as f:\n",
    "        print(f.read(),end='')"
   ]
  },
  {
   "cell_type": "code",
   "execution_count": 124,
   "id": "0c5ac91d-847e-442f-86df-9e6dc55011a6",
   "metadata": {},
   "outputs": [
    {
     "data": {
      "text/html": [
       "<div>\n",
       "<style scoped>\n",
       "    .dataframe tbody tr th:only-of-type {\n",
       "        vertical-align: middle;\n",
       "    }\n",
       "\n",
       "    .dataframe tbody tr th {\n",
       "        vertical-align: top;\n",
       "    }\n",
       "\n",
       "    .dataframe thead th {\n",
       "        text-align: right;\n",
       "    }\n",
       "</style>\n",
       "<table border=\"1\" class=\"dataframe\">\n",
       "  <thead>\n",
       "    <tr style=\"text-align: right;\">\n",
       "      <th></th>\n",
       "      <th>school</th>\n",
       "      <th>sex</th>\n",
       "      <th>age</th>\n",
       "      <th>address</th>\n",
       "      <th>famsize</th>\n",
       "      <th>Pstatus</th>\n",
       "      <th>Medu</th>\n",
       "      <th>Fedu</th>\n",
       "      <th>Mjob</th>\n",
       "      <th>Fjob</th>\n",
       "      <th>...</th>\n",
       "      <th>famrel</th>\n",
       "      <th>freetime</th>\n",
       "      <th>goout</th>\n",
       "      <th>Dalc</th>\n",
       "      <th>Walc</th>\n",
       "      <th>health</th>\n",
       "      <th>absences</th>\n",
       "      <th>G1</th>\n",
       "      <th>G2</th>\n",
       "      <th>G3</th>\n",
       "    </tr>\n",
       "  </thead>\n",
       "  <tbody>\n",
       "    <tr>\n",
       "      <th>0</th>\n",
       "      <td>GP</td>\n",
       "      <td>F</td>\n",
       "      <td>18</td>\n",
       "      <td>U</td>\n",
       "      <td>GT3</td>\n",
       "      <td>A</td>\n",
       "      <td>4</td>\n",
       "      <td>4</td>\n",
       "      <td>at_home</td>\n",
       "      <td>teacher</td>\n",
       "      <td>...</td>\n",
       "      <td>4</td>\n",
       "      <td>3</td>\n",
       "      <td>4</td>\n",
       "      <td>1</td>\n",
       "      <td>1</td>\n",
       "      <td>3</td>\n",
       "      <td>4</td>\n",
       "      <td>0</td>\n",
       "      <td>11</td>\n",
       "      <td>11</td>\n",
       "    </tr>\n",
       "    <tr>\n",
       "      <th>1</th>\n",
       "      <td>GP</td>\n",
       "      <td>F</td>\n",
       "      <td>17</td>\n",
       "      <td>U</td>\n",
       "      <td>GT3</td>\n",
       "      <td>T</td>\n",
       "      <td>1</td>\n",
       "      <td>1</td>\n",
       "      <td>at_home</td>\n",
       "      <td>other</td>\n",
       "      <td>...</td>\n",
       "      <td>5</td>\n",
       "      <td>3</td>\n",
       "      <td>3</td>\n",
       "      <td>1</td>\n",
       "      <td>1</td>\n",
       "      <td>3</td>\n",
       "      <td>2</td>\n",
       "      <td>9</td>\n",
       "      <td>11</td>\n",
       "      <td>11</td>\n",
       "    </tr>\n",
       "    <tr>\n",
       "      <th>2</th>\n",
       "      <td>GP</td>\n",
       "      <td>F</td>\n",
       "      <td>15</td>\n",
       "      <td>U</td>\n",
       "      <td>LE3</td>\n",
       "      <td>T</td>\n",
       "      <td>1</td>\n",
       "      <td>1</td>\n",
       "      <td>at_home</td>\n",
       "      <td>other</td>\n",
       "      <td>...</td>\n",
       "      <td>4</td>\n",
       "      <td>3</td>\n",
       "      <td>2</td>\n",
       "      <td>2</td>\n",
       "      <td>3</td>\n",
       "      <td>3</td>\n",
       "      <td>6</td>\n",
       "      <td>12</td>\n",
       "      <td>13</td>\n",
       "      <td>12</td>\n",
       "    </tr>\n",
       "    <tr>\n",
       "      <th>3</th>\n",
       "      <td>GP</td>\n",
       "      <td>F</td>\n",
       "      <td>15</td>\n",
       "      <td>U</td>\n",
       "      <td>GT3</td>\n",
       "      <td>T</td>\n",
       "      <td>4</td>\n",
       "      <td>2</td>\n",
       "      <td>health</td>\n",
       "      <td>services</td>\n",
       "      <td>...</td>\n",
       "      <td>3</td>\n",
       "      <td>2</td>\n",
       "      <td>2</td>\n",
       "      <td>1</td>\n",
       "      <td>1</td>\n",
       "      <td>5</td>\n",
       "      <td>0</td>\n",
       "      <td>14</td>\n",
       "      <td>14</td>\n",
       "      <td>14</td>\n",
       "    </tr>\n",
       "    <tr>\n",
       "      <th>4</th>\n",
       "      <td>GP</td>\n",
       "      <td>F</td>\n",
       "      <td>16</td>\n",
       "      <td>U</td>\n",
       "      <td>GT3</td>\n",
       "      <td>T</td>\n",
       "      <td>3</td>\n",
       "      <td>3</td>\n",
       "      <td>other</td>\n",
       "      <td>other</td>\n",
       "      <td>...</td>\n",
       "      <td>4</td>\n",
       "      <td>3</td>\n",
       "      <td>2</td>\n",
       "      <td>1</td>\n",
       "      <td>2</td>\n",
       "      <td>5</td>\n",
       "      <td>0</td>\n",
       "      <td>11</td>\n",
       "      <td>13</td>\n",
       "      <td>13</td>\n",
       "    </tr>\n",
       "    <tr>\n",
       "      <th>...</th>\n",
       "      <td>...</td>\n",
       "      <td>...</td>\n",
       "      <td>...</td>\n",
       "      <td>...</td>\n",
       "      <td>...</td>\n",
       "      <td>...</td>\n",
       "      <td>...</td>\n",
       "      <td>...</td>\n",
       "      <td>...</td>\n",
       "      <td>...</td>\n",
       "      <td>...</td>\n",
       "      <td>...</td>\n",
       "      <td>...</td>\n",
       "      <td>...</td>\n",
       "      <td>...</td>\n",
       "      <td>...</td>\n",
       "      <td>...</td>\n",
       "      <td>...</td>\n",
       "      <td>...</td>\n",
       "      <td>...</td>\n",
       "      <td>...</td>\n",
       "    </tr>\n",
       "    <tr>\n",
       "      <th>644</th>\n",
       "      <td>MS</td>\n",
       "      <td>F</td>\n",
       "      <td>19</td>\n",
       "      <td>R</td>\n",
       "      <td>GT3</td>\n",
       "      <td>T</td>\n",
       "      <td>2</td>\n",
       "      <td>3</td>\n",
       "      <td>services</td>\n",
       "      <td>other</td>\n",
       "      <td>...</td>\n",
       "      <td>5</td>\n",
       "      <td>4</td>\n",
       "      <td>2</td>\n",
       "      <td>1</td>\n",
       "      <td>2</td>\n",
       "      <td>5</td>\n",
       "      <td>4</td>\n",
       "      <td>10</td>\n",
       "      <td>11</td>\n",
       "      <td>10</td>\n",
       "    </tr>\n",
       "    <tr>\n",
       "      <th>645</th>\n",
       "      <td>MS</td>\n",
       "      <td>F</td>\n",
       "      <td>18</td>\n",
       "      <td>U</td>\n",
       "      <td>LE3</td>\n",
       "      <td>T</td>\n",
       "      <td>3</td>\n",
       "      <td>1</td>\n",
       "      <td>teacher</td>\n",
       "      <td>services</td>\n",
       "      <td>...</td>\n",
       "      <td>4</td>\n",
       "      <td>3</td>\n",
       "      <td>4</td>\n",
       "      <td>1</td>\n",
       "      <td>1</td>\n",
       "      <td>1</td>\n",
       "      <td>4</td>\n",
       "      <td>15</td>\n",
       "      <td>15</td>\n",
       "      <td>16</td>\n",
       "    </tr>\n",
       "    <tr>\n",
       "      <th>646</th>\n",
       "      <td>MS</td>\n",
       "      <td>F</td>\n",
       "      <td>18</td>\n",
       "      <td>U</td>\n",
       "      <td>GT3</td>\n",
       "      <td>T</td>\n",
       "      <td>1</td>\n",
       "      <td>1</td>\n",
       "      <td>other</td>\n",
       "      <td>other</td>\n",
       "      <td>...</td>\n",
       "      <td>1</td>\n",
       "      <td>1</td>\n",
       "      <td>1</td>\n",
       "      <td>1</td>\n",
       "      <td>1</td>\n",
       "      <td>5</td>\n",
       "      <td>6</td>\n",
       "      <td>11</td>\n",
       "      <td>12</td>\n",
       "      <td>9</td>\n",
       "    </tr>\n",
       "    <tr>\n",
       "      <th>647</th>\n",
       "      <td>MS</td>\n",
       "      <td>M</td>\n",
       "      <td>17</td>\n",
       "      <td>U</td>\n",
       "      <td>LE3</td>\n",
       "      <td>T</td>\n",
       "      <td>3</td>\n",
       "      <td>1</td>\n",
       "      <td>services</td>\n",
       "      <td>services</td>\n",
       "      <td>...</td>\n",
       "      <td>2</td>\n",
       "      <td>4</td>\n",
       "      <td>5</td>\n",
       "      <td>3</td>\n",
       "      <td>4</td>\n",
       "      <td>2</td>\n",
       "      <td>6</td>\n",
       "      <td>10</td>\n",
       "      <td>10</td>\n",
       "      <td>10</td>\n",
       "    </tr>\n",
       "    <tr>\n",
       "      <th>648</th>\n",
       "      <td>MS</td>\n",
       "      <td>M</td>\n",
       "      <td>18</td>\n",
       "      <td>R</td>\n",
       "      <td>LE3</td>\n",
       "      <td>T</td>\n",
       "      <td>3</td>\n",
       "      <td>2</td>\n",
       "      <td>services</td>\n",
       "      <td>other</td>\n",
       "      <td>...</td>\n",
       "      <td>4</td>\n",
       "      <td>4</td>\n",
       "      <td>1</td>\n",
       "      <td>3</td>\n",
       "      <td>4</td>\n",
       "      <td>5</td>\n",
       "      <td>4</td>\n",
       "      <td>10</td>\n",
       "      <td>11</td>\n",
       "      <td>11</td>\n",
       "    </tr>\n",
       "  </tbody>\n",
       "</table>\n",
       "<p>649 rows × 33 columns</p>\n",
       "</div>"
      ],
      "text/plain": [
       "    school sex  age address famsize Pstatus  Medu  Fedu      Mjob      Fjob  \\\n",
       "0       GP   F   18       U     GT3       A     4     4   at_home   teacher   \n",
       "1       GP   F   17       U     GT3       T     1     1   at_home     other   \n",
       "2       GP   F   15       U     LE3       T     1     1   at_home     other   \n",
       "3       GP   F   15       U     GT3       T     4     2    health  services   \n",
       "4       GP   F   16       U     GT3       T     3     3     other     other   \n",
       "..     ...  ..  ...     ...     ...     ...   ...   ...       ...       ...   \n",
       "644     MS   F   19       R     GT3       T     2     3  services     other   \n",
       "645     MS   F   18       U     LE3       T     3     1   teacher  services   \n",
       "646     MS   F   18       U     GT3       T     1     1     other     other   \n",
       "647     MS   M   17       U     LE3       T     3     1  services  services   \n",
       "648     MS   M   18       R     LE3       T     3     2  services     other   \n",
       "\n",
       "     ... famrel freetime  goout  Dalc  Walc health absences  G1  G2  G3  \n",
       "0    ...      4        3      4     1     1      3        4   0  11  11  \n",
       "1    ...      5        3      3     1     1      3        2   9  11  11  \n",
       "2    ...      4        3      2     2     3      3        6  12  13  12  \n",
       "3    ...      3        2      2     1     1      5        0  14  14  14  \n",
       "4    ...      4        3      2     1     2      5        0  11  13  13  \n",
       "..   ...    ...      ...    ...   ...   ...    ...      ...  ..  ..  ..  \n",
       "644  ...      5        4      2     1     2      5        4  10  11  10  \n",
       "645  ...      4        3      4     1     1      1        4  15  15  16  \n",
       "646  ...      1        1      1     1     1      5        6  11  12   9  \n",
       "647  ...      2        4      5     3     4      2        6  10  10  10  \n",
       "648  ...      4        4      1     3     4      5        4  10  11  11  \n",
       "\n",
       "[649 rows x 33 columns]"
      ]
     },
     "execution_count": 124,
     "metadata": {},
     "output_type": "execute_result"
    }
   ],
   "source": [
    "filename = 'student-por.csv'\n",
    "data = pd.read_csv(filename, sep = ';')\n",
    "data"
   ]
  },
  {
   "cell_type": "markdown",
   "id": "97969b10-a668-4c3c-8a59-0ec696344b99",
   "metadata": {},
   "source": [
    "### data validation (checking types)"
   ]
  },
  {
   "cell_type": "code",
   "execution_count": 125,
   "id": "84dc3554-1fcd-4228-9251-bbe240596e02",
   "metadata": {},
   "outputs": [
    {
     "data": {
      "text/plain": [
       "school        object\n",
       "sex           object\n",
       "age            int64\n",
       "address       object\n",
       "famsize       object\n",
       "Pstatus       object\n",
       "Medu           int64\n",
       "Fedu           int64\n",
       "Mjob          object\n",
       "Fjob          object\n",
       "reason        object\n",
       "guardian      object\n",
       "traveltime     int64\n",
       "studytime      int64\n",
       "failures       int64\n",
       "schoolsup     object\n",
       "famsup        object\n",
       "paid          object\n",
       "activities    object\n",
       "nursery       object\n",
       "higher        object\n",
       "internet      object\n",
       "romantic      object\n",
       "famrel         int64\n",
       "freetime       int64\n",
       "goout          int64\n",
       "Dalc           int64\n",
       "Walc           int64\n",
       "health         int64\n",
       "absences       int64\n",
       "G1             int64\n",
       "G2             int64\n",
       "G3             int64\n",
       "dtype: object"
      ]
     },
     "execution_count": 125,
     "metadata": {},
     "output_type": "execute_result"
    }
   ],
   "source": [
    "data.dtypes"
   ]
  },
  {
   "cell_type": "markdown",
   "id": "5cc4b31a-c6c5-437d-accb-bf9a7693db9f",
   "metadata": {},
   "source": [
    "### cleaning the data"
   ]
  },
  {
   "cell_type": "code",
   "execution_count": 126,
   "id": "5eadcb92-ecde-42e8-9b29-02e9a22322fb",
   "metadata": {},
   "outputs": [
    {
     "name": "stdout",
     "output_type": "stream",
     "text": [
      "0 missing entries in school\n",
      "0 missing entries in sex\n",
      "0 missing entries in age\n",
      "0 missing entries in address\n",
      "0 missing entries in famsize\n",
      "0 missing entries in Pstatus\n",
      "0 missing entries in Medu\n",
      "0 missing entries in Fedu\n",
      "0 missing entries in Mjob\n",
      "0 missing entries in Fjob\n",
      "0 missing entries in reason\n",
      "0 missing entries in guardian\n",
      "0 missing entries in traveltime\n",
      "0 missing entries in studytime\n",
      "0 missing entries in failures\n",
      "0 missing entries in schoolsup\n",
      "0 missing entries in famsup\n",
      "0 missing entries in paid\n",
      "0 missing entries in activities\n",
      "0 missing entries in nursery\n",
      "0 missing entries in higher\n",
      "0 missing entries in internet\n",
      "0 missing entries in romantic\n",
      "0 missing entries in famrel\n",
      "0 missing entries in freetime\n",
      "0 missing entries in goout\n",
      "0 missing entries in Dalc\n",
      "0 missing entries in Walc\n",
      "0 missing entries in health\n",
      "0 missing entries in absences\n",
      "0 missing entries in G1\n",
      "0 missing entries in G2\n",
      "0 missing entries in G3\n"
     ]
    }
   ],
   "source": [
    "# count missing entries in a column\n",
    "for x in data.columns:\n",
    "    missing = pd.isnull(data[x]).sum()\n",
    "    print(f'{missing} missing entries in {x}')\n",
    "# therefore no missing entries, no data cleaning required"
   ]
  },
  {
   "cell_type": "markdown",
   "id": "6a24f520-1605-445f-a4cc-93e317452e9b",
   "metadata": {},
   "source": [
    "### changing desired data to numerical attributes"
   ]
  },
  {
   "cell_type": "code",
   "execution_count": 127,
   "id": "de322eae-cbb8-4103-91cd-38d4084b43a4",
   "metadata": {},
   "outputs": [
    {
     "data": {
      "text/plain": [
       "school        object\n",
       "sex           object\n",
       "age            int64\n",
       "address       object\n",
       "famsize       object\n",
       "Pstatus       object\n",
       "Medu           int64\n",
       "Fedu           int64\n",
       "Mjob          object\n",
       "Fjob          object\n",
       "reason        object\n",
       "guardian      object\n",
       "traveltime     int64\n",
       "studytime      int64\n",
       "failures       int64\n",
       "schoolsup      int64\n",
       "famsup        object\n",
       "paid          object\n",
       "activities    object\n",
       "nursery       object\n",
       "higher         int64\n",
       "internet       int64\n",
       "romantic      object\n",
       "famrel         int64\n",
       "freetime       int64\n",
       "goout          int64\n",
       "Dalc           int64\n",
       "Walc           int64\n",
       "health         int64\n",
       "absences       int64\n",
       "G1             int64\n",
       "G2             int64\n",
       "G3             int64\n",
       "dtype: object"
      ]
     },
     "execution_count": 127,
     "metadata": {},
     "output_type": "execute_result"
    }
   ],
   "source": [
    "# using lambda function to assign binary numbers to object types\n",
    "\n",
    "data[\"higher\"] = data[\"higher\"].apply(lambda x: 1 if x == 'yes' else 0)\n",
    "data[\"internet\"] = data[\"internet\"].apply(lambda x: 1 if x == 'yes' else 0)\n",
    "data[\"schoolsup\"] = data[\"schoolsup\"].apply(lambda x: 1 if x == 'yes' else 0)\n",
    "\n",
    "# check types again to make sure desired features are integers\n",
    "data.dtypes"
   ]
  },
  {
   "cell_type": "markdown",
   "id": "3e5817c0-5028-4ebb-bbfc-4865c18a70ac",
   "metadata": {},
   "source": [
    "### selecting relevant attributes, splitting, and using whiten for weights"
   ]
  },
  {
   "cell_type": "code",
   "execution_count": 128,
   "id": "3980aca3-7287-4fba-ad18-a97875338dd8",
   "metadata": {},
   "outputs": [
    {
     "name": "stdout",
     "output_type": "stream",
     "text": [
      "[[3.24418905 0.         3.26514276 2.41292286 0.         0.86259282]\n",
      " [3.24418905 2.36669096 0.         2.41292286 0.         0.43129641]\n",
      " [3.24418905 2.36669096 3.26514276 2.41292286 0.         1.29388923]\n",
      " ...\n",
      " [3.24418905 0.         0.         2.41292286 0.         1.29388923]\n",
      " [3.24418905 2.36669096 0.         1.20646143 0.         1.29388923]\n",
      " [3.24418905 2.36669096 0.         1.20646143 0.         0.86259282]]\n"
     ]
    }
   ],
   "source": [
    "from scipy.cluster.vq import whiten\n",
    "from sklearn.model_selection import train_test_split\n",
    "features = ['higher', 'internet', 'schoolsup', 'studytime', 'failures', 'absences'] # initializing features\n",
    "X = whiten(data[features]) # Source: https://docs.scipy.org/doc/scipy/reference/generated/scipy.cluster.vq.whiten.html\n",
    "print(X)\n",
    "Y = data['G3']\n",
    "xtrain, xtest, ytrain, ytest = train_test_split(X,Y) #splitting the data"
   ]
  },
  {
   "cell_type": "markdown",
   "id": "1ed0d2e9-4ea5-4dc2-b125-028c38b50c4c",
   "metadata": {},
   "source": [
    "### computing k-means clustering, determining accuracies and centroids"
   ]
  },
  {
   "cell_type": "code",
   "execution_count": 191,
   "id": "4a0c2cd9-436f-4815-88c3-e71a3ce5f1a7",
   "metadata": {},
   "outputs": [
    {
     "name": "stdout",
     "output_type": "stream",
     "text": [
      "1 codebook\n",
      "For K =  1 Accuracy: 0.18404907975460122\n",
      "2 codebook\n",
      "For K =  2 Accuracy: 0.12269938650306748\n",
      "3 codebook\n",
      "For K =  3 Accuracy: 0.1411042944785276\n",
      "4 codebook\n",
      "For K =  4 Accuracy: 0.12269938650306748\n",
      "5 codebook\n",
      "For K =  5 Accuracy: 0.13496932515337423\n",
      "6 codebook\n",
      "For K =  6 Accuracy: 0.12883435582822086\n",
      "7 codebook\n",
      "For K =  7 Accuracy: 0.12269938650306748\n",
      "8 codebook\n",
      "For K =  8 Accuracy: 0.13496932515337423\n",
      "9 codebook\n",
      "For K =  9 Accuracy: 0.13496932515337423\n",
      "10 codebook\n",
      "For K =  10 Accuracy: 0.1165644171779141\n",
      "11 codebook\n",
      "For K =  11 Accuracy: 0.15337423312883436\n",
      "12 codebook\n",
      "For K =  12 Accuracy: 0.12269938650306748\n",
      "13 codebook\n",
      "For K =  13 Accuracy: 0.15337423312883436\n",
      "14 codebook\n",
      "For K =  14 Accuracy: 0.12883435582822086\n",
      "15 codebook\n",
      "For K =  15 Accuracy: 0.1411042944785276\n",
      "16 codebook\n",
      "For K =  16 Accuracy: 0.147239263803681\n",
      "17 codebook\n",
      "For K =  17 Accuracy: 0.10429447852760736\n",
      "18 codebook\n",
      "For K =  18 Accuracy: 0.1165644171779141\n",
      "19 codebook\n",
      "For K =  19 Accuracy: 0.13496932515337423\n",
      "20 codebook\n",
      "For K =  20 Accuracy: 0.13496932515337423\n"
     ]
    }
   ],
   "source": [
    "from scipy.cluster.vq import kmeans, kmeans2\n",
    "from scipy.cluster.vq import vq\n",
    "import statistics\n",
    "import numpy as np\n",
    "from sklearn.metrics import accuracy_score\n",
    "\n",
    "#initializing accuracy list\n",
    "accuracies = []\n",
    "\n",
    "\n",
    "for i in np.arange(1,21):\n",
    "    #taking possible k's of 1 to 20 because the data shows G3 can be numeric from 0-20.\n",
    "    \n",
    "    codebook = kmeans2(xtrain,i,minit='++') # perform k-means clustering on the training data with i clusters\n",
    "    # centered values of each cluster are the first array called centroids\n",
    "    centroids = codebook[0]\n",
    "    #print(centroids)\n",
    "    \n",
    "    print(i, \"codebook\") # print current value of K to check\n",
    "\n",
    "    # extract unique cluster indices to put into a list\n",
    "    unique = list(set(codebook[1])) # codebook[1] is the second array with independent values of the cluster each student is associated with for each K value\n",
    "\n",
    "    # create a list of tuples where each tuple contains a cluster index and the corresponding label from the training grades (ytrain)\n",
    "    labels = list(zip(list(codebook[1]),list(ytrain)))\n",
    "\n",
    "    # initialize dictionary that will hold cluster indices as keys and lists of labels as values\n",
    "    dict = {}\n",
    "\n",
    "    # add to the dictionary with labels for each cluster\n",
    "    for cluster in unique:\n",
    "        edited_cluster = cluster\n",
    "        # the line below populates dict with cluster indices as keys and lists of labels as values. \n",
    "        # It iterates through each unique cluster index, filters the labels list to get the grade for to that cluster, and assigns them to the dictionary\n",
    "        dict[cluster] = [tup[1] for tup in labels if tup[0] == edited_cluster]\n",
    "\n",
    "    # make another dictionary for the most common grade for each cluster\n",
    "    mode_dict = {}\n",
    "    for x in unique:\n",
    "        # find the most common grade using mode\n",
    "        mode_dict[x] = statistics.mode(dict[x])\n",
    "\n",
    "    # assign test data points to the nearest centroids and get predictions\n",
    "    predictions,_ = vq(xtest, centroids)\n",
    "    # calculate accuracy by comparing predicted grade with actual grade using list comprehension\n",
    "    accuracy = accuracy_score(ytest, [mode_dict[p] for p in predictions])\n",
    "\n",
    "    #print data for visualization, append accuracies\n",
    "    print(\"For K = \", i, \"Accuracy:\", accuracy)\n",
    "    accuracies.append(accuracy)\n"
   ]
  },
  {
   "cell_type": "markdown",
   "id": "69f12a6a-27b1-4456-bdd6-f3a61a250516",
   "metadata": {},
   "source": [
    "## plotting clusters vs accuracy"
   ]
  },
  {
   "cell_type": "code",
   "execution_count": 194,
   "id": "03ecfdd5-a09a-446a-80c3-a19ab2640acd",
   "metadata": {},
   "outputs": [
    {
     "data": {
      "image/png": "[encoded data removed]",
      "text/plain": [
       "<Figure size 640x480 with 1 Axes>"
      ]
     },
     "metadata": {},
     "output_type": "display_data"
    }
   ],
   "source": [
    "import matplotlib.pyplot as plt\n",
    "\n",
    "# making a scatter plot for the number of clusters (from K = 1 to 20) against accuracies found above\n",
    "plt.scatter(range(1, 21), accuracies)\n",
    "\n",
    "# labelling the plot\n",
    "plt.xlabel(\"number of clusters (K)\")\n",
    "plt.ylabel(\"accuracy\")\n",
    "plt.title(\"Number of K Clusters vs Accuracy for Student Grade Prediction\")\n",
    "\n",
    "plt.show()"
   ]
  },
  {
   "cell_type": "markdown",
   "id": "7d8c727a-d1ea-4b16-bfd4-4d7caa8b48ae",
   "metadata": {},
   "source": [
    "## Summary"
   ]
  },
  {
   "cell_type": "markdown",
   "id": "ae961ab7-fbab-45c5-b208-173ea621855e",
   "metadata": {},
   "source": [
    "f) My accuracies are pretty similar to what I got in the decision trees, and still quite low. They definitely differ from using different features, and using kmeans created far more skewed points. I found it surprising that the features I chose had the highest accuracy for a K of 1 with 1 cluster. Compared to my highest accuracy with decision trees of  21.47%, the highest accuracy with Kmeans was 18.41%, which is similar but lower. Other than that, my accuracies with Kmeans analysis ranged from 10-19%, while decision trees gave me 9-20%. These are pretty similar results, which goes to show both the classification techniques obtained similar result patterns. "
   ]
  },
  {
   "cell_type": "markdown",
   "id": "73db55b6-deef-44ca-b519-c39f90fe12c0",
   "metadata": {},
   "source": [
    "g) During homework #1, I thought that the reason my accuracies were so low was due to the type of classifier I was using. I thought decision trees were not the best metric to use, but now seeing that I got extremely similar accuracies despite picking features I thought would help the grade prediction, I understand that the dataset has many variables that are not necessary aligned with the G3 grade result. I'm sure the accuracies would spike up if G1 and G2 were used in classification, but other than that a lot of the factors in the dataset did not have much infleunce on the grade the student was receiving. I now understand that despite thinking datasets with student family status, study time, and so much more would be a strong indicator of their final grades, they do not necessarily do so. Testing data is crucial in this field, even if you have strong opinions on what you think is going to happen. The results surprised me because of this fact, but now I understand that while datasets exist, they may not always have strong correlations between variables within them. "
   ]
  },
  {
   "cell_type": "markdown",
   "id": "8796edfe-090e-4d18-a293-a97ba612452a",
   "metadata": {},
   "source": [
    "Question 3: I spent around 10 hours on this homework."
   ]
  },
  {
   "cell_type": "code",
   "execution_count": null,
   "id": "4ade7574-4ccb-4c1e-a9b3-2084d9b8e409",
   "metadata": {},
   "outputs": [],
   "source": []
  }
 ],
 "metadata": {
  "kernelspec": {
   "display_name": "Python 3 (ipykernel)",
   "language": "python",
   "name": "python3"
  },
  "language_info": {
   "codemirror_mode": {
    "name": "ipython",
    "version": 3
   },
   "file_extension": ".py",
   "mimetype": "text/x-python",
   "name": "python",
   "nbconvert_exporter": "python",
   "pygments_lexer": "ipython3",
   "version": "3.12.1"
  }
 },
 "nbformat": 4,
 "nbformat_minor": 5
}
